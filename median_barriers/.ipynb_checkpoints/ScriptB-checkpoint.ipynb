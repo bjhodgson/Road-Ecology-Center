{
 "cells": [
  {
   "cell_type": "code",
   "execution_count": 1,
   "metadata": {},
   "outputs": [],
   "source": [
    "# CURRENT VERSION ONLY WORKS FOR \"CROS-CHIPS-20240410-ND-All\" dataset\n",
    "\n",
    "import arcpy\n",
    "import time\n",
    "import os\n",
    "\n",
    "# Set start time\n",
    "start_time = time.time()\n",
    "\n",
    "# Set workspace environment\n",
    "workspace = r\"C:\\Users\\pieno\\Box\\GIS\\median_barriers\\script_testing.gdb\"  # Update to local GeoDataBase path\n",
    "arcpy.env.workspace = workspace\n",
    "\n",
    "# Set project folder location\n",
    "project_folder = r\"C:\\Users\\pieno\\Box\\GIS\\median_barriers\" # Update to project folder path\n",
    "\n",
    "# Output folder\n",
    "output_folder = os.path.join(project_folder, \"outputs\") # Ensure that folder \"outputs\" exists within project folder\n",
    "\n",
    "# Input data\n",
    "excel_file = os.path.join(output_folder, \"SpatialJoinTable.xlsx\") \n",
    "spatial_join_cleaned = os.path.join(output_folder, \"CleanedSpatialJoinResult.shp\")\n",
    "roadkill_data = os.path.join(project_folder, \"CROS-CHIPS-20240410-ND-All\\CROS-CHIPS-20240410-ND-All.shp\") # Update to roadkill data path\n",
    "\n",
    "# Output data\n",
    "output_table = \"ExcelTable\"\n",
    "output_roadkill_median_data = os.path.join(output_folder, \"CROS-CHIPS-20240410-MEDIANS.shp\") # Rename if use newer CROS dataset"
   ]
  },
  {
   "cell_type": "code",
   "execution_count": 66,
   "metadata": {},
   "outputs": [
    {
     "data": {
      "text/html": [
       "<div class='gpresult'><h2>Messages</h2><div id='messages' data-messages='[\"Start Time: Tuesday, May 14, 2024 8:52:56 PM\",\"Succeeded at Tuesday, May 14, 2024 8:53:59 PM (Elapsed Time: 1 minutes 3 seconds)\"]' data-show='true'><div id = 'default' /></div></div>"
      ],
      "text/plain": [
       "<Result 'C:\\\\Users\\\\pieno\\\\Box\\\\GIS\\\\median_barriers\\\\outputs\\\\CleanedSpatialJoinResult.shp'>"
      ]
     },
     "execution_count": 66,
     "metadata": {},
     "output_type": "execute_result"
    }
   ],
   "source": [
    "# Join updated table of median pair attributes to highway feature class\n",
    "\n",
    "# Convert Excel to table\n",
    "arcpy.ExcelToTable_conversion(excel_file, output_table)\n",
    "\n",
    "# Set join key\n",
    "join_key = \"TARGET_FID\"\n",
    "\n",
    "# Perform the join\n",
    "arcpy.JoinField_management(spatial_join_cleaned, join_key, output_table, join_key) # Join using join_key"
   ]
  },
  {
   "cell_type": "code",
   "execution_count": null,
   "metadata": {},
   "outputs": [],
   "source": [
    "# Spatial join the highway feature class with median pair attributes to CROS roadkill data\n",
    "\n",
    "# Run the spatial join (name of CROS data is hardcoded into this line -- need to fix)\n",
    "arcpy.analysis.SpatialJoin(roadkill_data, spatial_join_cleaned, output_roadkill_median_data, \"JOIN_ONE_TO_MANY\", \"KEEP_ALL\", 'nid \"nid\" true true false 20 Double 0 20,First,#,CROS-CHIPS-20240410-ND-All,nid,-1,-1;condition \"condition\" true true false 254 Text 0 0,First,#,CROS-CHIPS-20240410-ND-All,condition,0,254;username \"username\" true true false 254 Text 0 0,First,#,CROS-CHIPS-20240410-ND-All,username,0,254;animal \"animal\" true true false 254 Text 0 0,First,#,CROS-CHIPS-20240410-ND-All,animal,0,254;animal_sig \"animal_sig\" true true false 254 Text 0 0,First,#,CROS-CHIPS-20240410-ND-All,animal_sig,0,254;scientific \"scientific\" true true false 254 Text 0 0,First,#,CROS-CHIPS-20240410-ND-All,scientific,0,254;animal_wri \"animal_wri\" true true false 254 Text 0 0,First,#,CROS-CHIPS-20240410-ND-All,animal_wri,0,254;animal_cat \"animal_cat\" true true false 254 Text 0 0,First,#,CROS-CHIPS-20240410-ND-All,animal_cat,0,254;animal_gro \"animal_gro\" true true false 254 Text 0 0,First,#,CROS-CHIPS-20240410-ND-All,animal_gro,0,254;confidence \"confidence\" true true false 254 Text 0 0,First,#,CROS-CHIPS-20240410-ND-All,confidence,0,254;observatio \"observatio\" true true false 24 Text 0 0,First,#,CROS-CHIPS-20240410-ND-All,observatio,0,24;created_da \"created_da\" true true false 24 Text 0 0,First,#,CROS-CHIPS-20240410-ND-All,created_da,0,24;time_since \"time_since\" true true false 254 Text 0 0,First,#,CROS-CHIPS-20240410-ND-All,time_since,0,254;latitude \"latitude\" true true false 24 Double 15 23,First,#,CROS-CHIPS-20240410-ND-All,latitude,-1,-1,CleanedSpatialJoinResult,Latitude,-1,-1;longitude \"longitude\" true true false 24 Double 15 23,First,#,CROS-CHIPS-20240410-ND-All,longitude,-1,-1,CleanedSpatialJoinResult,Longitude,-1,-1;salvage \"salvage\" true true false 254 Text 0 0,First,#,CROS-CHIPS-20240410-ND-All,salvage,0,254;road_type \"road_type\" true true false 254 Text 0 0,First,#,CROS-CHIPS-20240410-ND-All,road_type,0,254;roadside_f \"roadside_f\" true true false 254 Text 0 0,First,#,CROS-CHIPS-20240410-ND-All,roadside_f,0,254;speed_limi \"speed_limi\" true true false 254 Text 0 0,First,#,CROS-CHIPS-20240410-ND-All,speed_limi,0,254;travel_fre \"travel_fre\" true true false 254 Text 0 0,First,#,CROS-CHIPS-20240410-ND-All,travel_fre,0,254;carcass_po \"carcass_po\" true true false 254 Text 0 0,First,#,CROS-CHIPS-20240410-ND-All,carcass_po,0,254;incorrect_ \"incorrect_\" true true false 254 Text 0 0,First,#,CROS-CHIPS-20240410-ND-All,incorrect_,0,254;observer \"observer\" true true false 254 Text 0 0,First,#,CROS-CHIPS-20240410-ND-All,observer,0,254;CROSv1_NID \"CROSv1_NID\" true true false 20 Double 0 20,First,#,CROS-CHIPS-20240410-ND-All,CROSv1_NID,-1,-1;input_meth \"input_meth\" true true false 254 Text 0 0,First,#,CROS-CHIPS-20240410-ND-All,input_meth,0,254;review_sta \"review_sta\" true true false 254 Text 0 0,First,#,CROS-CHIPS-20240410-ND-All,review_sta,0,254;verificati \"verificati\" true true false 254 Text 0 0,First,#,CROS-CHIPS-20240410-ND-All,verificati,0,254;verifica_1 \"verifica_1\" true true false 254 Text 0 0,First,#,CROS-CHIPS-20240410-ND-All,verifica_1,0,254;Image \"Image\" true true false 254 Text 0 0,First,#,CROS-CHIPS-20240410-ND-All,Image,0,254;chips_Code \"chips_Code\" true true false 20 Double 0 20,First,#,CROS-CHIPS-20240410-ND-All,chips_Code,-1,-1;chips_Numb \"chips_Numb\" true true false 10 Long 0 10,First,#,CROS-CHIPS-20240410-ND-All,chips_Numb,-1,-1;chips_Date \"chips_Date\" true true false 24 Text 0 0,First,#,CROS-CHIPS-20240410-ND-All,chips_Date,0,24;chips_Crea \"chips_Crea\" true true false 24 Text 0 0,First,#,CROS-CHIPS-20240410-ND-All,chips_Crea,0,24;chips_Area \"chips_Area\" true true false 254 Text 0 0,First,#,CROS-CHIPS-20240410-ND-All,chips_Area,0,254;chips_Type \"chips_Type\" true true false 254 Text 0 0,First,#,CROS-CHIPS-20240410-ND-All,chips_Type,0,254;chips_Stre \"chips_Stre\" true true false 254 Text 0 0,First,#,CROS-CHIPS-20240410-ND-All,chips_Stre,0,254;chips_Loca \"chips_Loca\" true true false 254 Text 0 0,First,#,CROS-CHIPS-20240410-ND-All,chips_Loca,0,254;chips_Lati \"chips_Lati\" true true false 24 Double 15 23,First,#,CROS-CHIPS-20240410-ND-All,chips_Lati,-1,-1;chips_Long \"chips_Long\" true true false 24 Double 15 23,First,#,CROS-CHIPS-20240410-ND-All,chips_Long,-1,-1;chips_Mark \"chips_Mark\" true true false 254 Text 0 0,First,#,CROS-CHIPS-20240410-ND-All,chips_Mark,0,254;chips_Anim \"chips_Anim\" true true false 254 Text 0 0,First,#,CROS-CHIPS-20240410-ND-All,chips_Anim,0,254;chips_Conf \"chips_Conf\" true true false 254 Text 0 0,First,#,CROS-CHIPS-20240410-ND-All,chips_Conf,0,254;chips_Nu_1 \"chips_Nu_1\" true true false 10 Long 0 10,First,#,CROS-CHIPS-20240410-ND-All,chips_Nu_1,-1,-1;chips_Age \"chips_Age\" true true false 254 Text 0 0,First,#,CROS-CHIPS-20240410-ND-All,chips_Age,0,254;chips_Casc \"chips_Casc\" true true false 254 Text 0 0,First,#,CROS-CHIPS-20240410-ND-All,chips_Casc,0,254;chips_An_1 \"chips_An_1\" true true false 254 Text 0 0,First,#,CROS-CHIPS-20240410-ND-All,chips_An_1,0,254;chips_Driv \"chips_Driv\" true true false 254 Text 0 0,First,#,CROS-CHIPS-20240410-ND-All,chips_Driv,0,254;chips_Nu_2 \"chips_Nu_2\" true true false 10 Long 0 10,First,#,CROS-CHIPS-20240410-ND-All,chips_Nu_2,-1,-1;chips_Attr \"chips_Attr\" true true false 254 Text 0 0,First,#,CROS-CHIPS-20240410-ND-All,chips_Attr,0,254;chips_Note \"chips_Note\" true true false 254 Text 0 0,First,#,CROS-CHIPS-20240410-ND-All,chips_Note,0,254;chips_Deta \"chips_Deta\" true true false 254 Text 0 0,First,#,CROS-CHIPS-20240410-ND-All,chips_Deta,0,254;TARGET_FID \"TARGET_FID\" true true false 10 Long 0 10,First,#,CleanedSpatialJoinResult,TARGET_FID,-1,-1;FID_1 \"FID_1\" true true false 10 Long 0 10,First,#,CleanedSpatialJoinResult,FID_1,-1,-1;Join_Count \"Join_Count\" true true false 10 Long 0 10,First,#,CleanedSpatialJoinResult,Join_Count,-1,-1;TARGET_F_1 \"TARGET_F_1\" true true false 10 Long 0 10,First,#,CleanedSpatialJoinResult,TARGET_F_1,-1,-1;Id \"Id\" true true false 10 Long 0 10,First,#,CleanedSpatialJoinResult,Id,-1,-1;ORIG_FID \"ORIG_FID\" true true false 10 Long 0 10,First,#,CleanedSpatialJoinResult,ORIG_FID,-1,-1;ORIG_SEQ \"ORIG_SEQ\" true true false 10 Long 0 10,First,#,CleanedSpatialJoinResult,ORIG_SEQ,-1,-1;PAIR_NAME \"PAIR_NAME\" true true false 254 Text 0 0,First,#,CleanedSpatialJoinResult,PAIR_NAME,0,254;VALID \"VALID\" true true false 254 Text 0 0,First,#,CleanedSpatialJoinResult,VALID,0,254;ROUTE_ID \"ROUTE_ID\" true true false 10 Long 0 10,First,#,CleanedSpatialJoinResult,ROUTE_ID,-1,-1;PAIR_ID \"PAIR_ID\" true true false 10 Long 0 10,First,#,CleanedSpatialJoinResult,PAIR_ID,-1,-1;TRANSECT_I \"TRANSECT_I\" true true false 254 Text 0 0,First,#,CleanedSpatialJoinResult,TRANSECT_I,0,254;PAIR_TYPE \"PAIR_TYPE\" true true false 254 Text 0 0,First,#,CleanedSpatialJoinResult,PAIR_TYPE,0,254;Primary_Me \"Primary_Me\" true true false 254 Text 0 0,First,#,CleanedSpatialJoinResult,Primary_Me,0,254;MEDIAN_WID \"MEDIAN_WID\" true true false 19 Double 0 0,First,#,CleanedSpatialJoinResult,MEDIAN_WID,-1,-1;Secondary_ \"Secondary_\" true true false 254 Text 0 0,First,#,CleanedSpatialJoinResult,Secondary_,0,254;Notes \"Notes\" true true false 254 Text 0 0,First,#,CleanedSpatialJoinResult,Notes,0,254;Initials \"Initials\" true true false 254 Text 0 0,First,#,CleanedSpatialJoinResult,Initials,0,254;Field14 \"Field14\" true true false 254 Text 0 0,First,#,CleanedSpatialJoinResult,Field14,0,254;NEAR_FID \"NEAR_FID\" true true false 10 Long 0 10,First,#,CleanedSpatialJoinResult,NEAR_FID,-1,-1;NEAR_DIST \"NEAR_DIST\" true true false 19 Double 0 0,First,#,CleanedSpatialJoinResult,NEAR_DIST,-1,-1;NEAR_X \"NEAR_X\" true true false 19 Double 0 0,First,#,CleanedSpatialJoinResult,NEAR_X,-1,-1;NEAR_Y \"NEAR_Y\" true true false 19 Double 0 0,First,#,CleanedSpatialJoinResult,NEAR_Y,-1,-1;DDLat \"DDLat\" true true false 254 Text 0 0,First,#,CleanedSpatialJoinResult,DDLat,0,254;DDLon \"DDLon\" true true false 254 Text 0 0,First,#,CleanedSpatialJoinResult,DDLon,0,254;ORIG_OID \"ORIG_OID\" true true false 10 Long 0 10,First,#,CleanedSpatialJoinResult,ORIG_OID,-1,-1', \"INTERSECT\", \"100 Meters\", '')"
   ]
  },
  {
   "cell_type": "code",
   "execution_count": null,
   "metadata": {},
   "outputs": [],
   "source": [
    "# Calculate elapsed time\n",
    "elapsed_time = time.time() - start_time\n",
    "print(f\"Completed successfully. Total elapsed time: {elapsed_time/60:.2f} minutes.\")"
   ]
  }
 ],
 "metadata": {
  "kernelspec": {
   "display_name": "ArcGISPro",
   "language": "Python",
   "name": "python3"
  },
  "language_info": {
   "file_extension": ".py",
   "name": "python",
   "version": "3"
  }
 },
 "nbformat": 4,
 "nbformat_minor": 2
}
