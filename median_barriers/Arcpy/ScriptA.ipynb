{
 "cells": [
  {
   "cell_type": "code",
   "execution_count": 1,
   "metadata": {},
   "outputs": [],
   "source": [
    "import arcpy\n",
    "import time\n",
    "import os\n",
    "\n",
    "# Set start time\n",
    "start_time = time.time()\n",
    "\n",
    "# Set workspace environment\n",
    "workspace = r\"D:\\median_barriers\\median_barriers.gdb\"  # Update to local GeoDataBase path\n",
    "arcpy.env.workspace = workspace\n",
    "\n",
    "# Set project folder location\n",
    "project_folder = r\"D:\\median_barriers\" # Update to project folder path\n",
    "\n",
    "# Input data\n",
    "roadway_data = r\"D:\\median_barriers\\inputs\\CA_HPMS_TMC2017\\CA_HPMS_TMC2017\\CA_HPMS_TMC2017.gdb\\CA_HPMSPR2016_TMC2017\" # Update to local path\n",
    "median_barriers_csv = r\"D:\\median_barriers\\inputs\\initial_analysis_pairs.csv\" # Update to local path\n",
    "attribute_field = \"ROUTE_ID\"  # Select by attribute\n",
    "attribute_value = \"SHS_058_P\"  # Update to selected highway in format \"SHS_###_P\"\n",
    "\n",
    "# Output folder\n",
    "output_folder = os.path.join(project_folder, \"outputs\") # Ensure that folder \"outputs\" exists within project folder\n",
    "\n",
    "# Output data\n",
    "dissolved_road = os.path.join(output_folder, \"DissolvedRoad.shp\")\n",
    "median_points = os.path.join(output_folder, \"MedianPoints.shp\")\n",
    "output_selected_roadway = os.path.join(output_folder, \"SelectedRoadway.shp\")\n",
    "output_points_along_line = os.path.join(output_folder, \"PointsAlongLine.shp\")\n",
    "output_points_to_line = os.path.join(output_folder, \"PointsToLine.shp\")\n",
    "output_split_line = os.path.join(output_folder, \"SplitLine.shp\")\n",
    "output_spatial_join = os.path.join(output_folder, \"SpatialJoinResult.shp\")\n",
    "output_median_points_near = os.path.join(output_folder, \"MedianPointsNear.shp\")\n",
    "output_table = os.path.join(output_folder, \"SpatialJoinTable.xlsx\")\n",
    "output_spatial_join_cleaned = os.path.join(output_folder, \"CleanedSpatialJoinResult.shp\")"
   ]
  },
  {
   "cell_type": "code",
   "execution_count": 2,
   "metadata": {},
   "outputs": [],
   "source": [
    "# Create new layer of selected roadway\n",
    "\n",
    "# Select roadway data by attribute\n",
    "arcpy.management.MakeFeatureLayer(roadway_data, \"roadway_layer\")\n",
    "arcpy.management.SelectLayerByAttribute(\"roadway_layer\", \"NEW_SELECTION\", f\"{attribute_field} = '{attribute_value}'\")\n",
    "selected_roadway = arcpy.management.CopyFeatures(\"roadway_layer\", output_selected_roadway)"
   ]
  },
  {
   "cell_type": "code",
   "execution_count": 3,
   "metadata": {},
   "outputs": [],
   "source": [
    "# Dissolve selected roadway into single feature\n",
    "dissolved_road = arcpy.management.Dissolve(selected_roadway, dissolved_road)"
   ]
  },
  {
   "cell_type": "code",
   "execution_count": 4,
   "metadata": {},
   "outputs": [
    {
     "data": {
      "text/html": [
       "<div class='gpresult'><h2>Messages</h2><div id='messages' data-messages='[\"Start Time: Monday, June 3, 2024 10:35:08 AM\",\"Succeeded at Monday, June 3, 2024 10:35:22 AM (Elapsed Time: 14.02 seconds)\"]' data-show='true'><div id = 'default' /></div></div>"
      ],
      "text/plain": [
       "<Result 'D:\\\\median_barriers\\\\outputs\\\\PointsAlongLine.shp'>"
      ]
     },
     "execution_count": 4,
     "metadata": {},
     "output_type": "execute_result"
    }
   ],
   "source": [
    "# Generate points along line at specified segment distance\n",
    "arcpy.management.GeneratePointsAlongLines(dissolved_road, output_points_along_line, \"DISTANCE\", \"100 Meters\") # Distance between points is 100m"
   ]
  },
  {
   "cell_type": "code",
   "execution_count": 5,
   "metadata": {},
   "outputs": [
    {
     "data": {
      "text/html": [
       "<div class='gpresult'><h2>Messages</h2><div id='messages' data-messages='[\"Start Time: Monday, June 3, 2024 10:35:23 AM\",\"Succeeded at Monday, June 3, 2024 10:35:25 AM (Elapsed Time: 1.60 seconds)\"]' data-show='true'><div id = 'default' /></div></div>"
      ],
      "text/plain": [
       "<Result 'D:\\\\median_barriers\\\\outputs\\\\PointsToLine.shp'>"
      ]
     },
     "execution_count": 5,
     "metadata": {},
     "output_type": "execute_result"
    }
   ],
   "source": [
    "# Convert points to line\n",
    "arcpy.management.PointsToLine(output_points_along_line, output_points_to_line)"
   ]
  },
  {
   "cell_type": "code",
   "execution_count": 6,
   "metadata": {},
   "outputs": [
    {
     "data": {
      "text/html": [
       "<div class='gpresult'><h2>Messages</h2><div id='messages' data-messages='[\"Start Time: Monday, June 3, 2024 10:35:26 AM\",\"Succeeded at Monday, June 3, 2024 10:35:39 AM (Elapsed Time: 13.16 seconds)\"]' data-show='true'><div id = 'default' /></div></div>"
      ],
      "text/plain": [
       "<Result 'D:\\\\median_barriers\\\\outputs\\\\SplitLine.shp'>"
      ]
     },
     "execution_count": 6,
     "metadata": {},
     "output_type": "execute_result"
    }
   ],
   "source": [
    "# Split line by points to create selected roadway with segments of specified segment distance\n",
    "arcpy.management.SplitLineAtPoint(output_points_to_line, output_points_along_line, output_split_line, \"1 Meters\") # Line searches for points within 1m"
   ]
  },
  {
   "cell_type": "code",
   "execution_count": 7,
   "metadata": {},
   "outputs": [
    {
     "data": {
      "text/html": [
       "<div class='gpresult'><h2>Messages</h2><div id='messages' data-messages='[\"Start Time: Monday, June 3, 2024 10:35:42 AM\",\"Succeeded at Monday, June 3, 2024 10:35:44 AM (Elapsed Time: 1.69 seconds)\"]' data-show='true'><div id = 'default' /></div></div>"
      ],
      "text/plain": [
       "<Result 'D:\\\\median_barriers\\\\median_barriers.gdb\\\\MedianPoints_fc'>"
      ]
     },
     "execution_count": 7,
     "metadata": {},
     "output_type": "execute_result"
    }
   ],
   "source": [
    "# Convert median points CSV to points layer\n",
    "median_points = arcpy.management.MakeXYEventLayer(median_barriers_csv, \"Longitude\", \"Latitude\", \"MedianPoints_Layer\")\n",
    "\n",
    "# Convert median points layer to feature class\n",
    "median_points_fc = \"MedianPoints_fc\"\n",
    "arcpy.management.CopyFeatures(median_points, median_points_fc)"
   ]
  },
  {
   "cell_type": "code",
   "execution_count": 8,
   "metadata": {},
   "outputs": [],
   "source": [
    "# Perform Near analysis to determine distance of median points from nearest roadway edge\n",
    "near_table = arcpy.analysis.Near(median_points_fc, output_split_line, \"100 Meters\", \"LOCATION\", \"NO_ANGLE\", \"PLANAR\", \"NEAR_FID NEAR_FID;NEAR_DIST NEAR_DIST;NEAR_X NEAR_X;NEAR_Y NEAR_Y\") # Point searches for line within 100m"
   ]
  },
  {
   "cell_type": "code",
   "execution_count": 9,
   "metadata": {},
   "outputs": [
    {
     "data": {
      "text/html": [
       "<div class='gpresult'><h2>Messages</h2><div id='messages' data-messages='[\"Start Time: Monday, June 3, 2024 10:35:50 AM\",\"Succeeded at Monday, June 3, 2024 10:35:52 AM (Elapsed Time: 1.40 seconds)\"]' data-show='true'><div id = 'default' /></div></div>"
      ],
      "text/plain": [
       "<Result 'D:\\\\median_barriers\\\\outputs\\\\MedianPointsNear.shp'>"
      ]
     },
     "execution_count": 9,
     "metadata": {},
     "output_type": "execute_result"
    }
   ],
   "source": [
    "# Shift position of median points to intersect roadway line\n",
    "arcpy.defense.CoordinateTableToPoint(median_points_fc, output_median_points_near, 'NEAR_X', 'DD_2', 'NEAR_Y', 'GEOGCS[\"GCS_WGS_1984\",DATUM[\"D_WGS_1984\",SPHEROID[\"WGS_1984\",6378137.0,298.257223563]],PRIMEM[\"Greenwich\",0.0],UNIT[\"Degree\",0.0174532925199433]];-400 -400 1000000000;-100000 10000;-100000 10000;8.98315284119521E-09;0.001;0.001;IsHighPrecision') # CRS: WGS84"
   ]
  },
  {
   "cell_type": "code",
   "execution_count": 10,
   "metadata": {},
   "outputs": [
    {
     "data": {
      "text/html": [
       "<div class='gpresult'><h2>Messages</h2><div id='messages' data-messages='[\"Start Time: Monday, June 3, 2024 10:35:52 AM\",\"Succeeded at Monday, June 3, 2024 10:36:10 AM (Elapsed Time: 17.64 seconds)\"]' data-show='true'><div id = 'default' /></div></div>"
      ],
      "text/plain": [
       "<Result 'D:\\\\median_barriers\\\\outputs\\\\SpatialJoinResult.shp'>"
      ]
     },
     "execution_count": 10,
     "metadata": {},
     "output_type": "execute_result"
    }
   ],
   "source": [
    "# Spatial join median points to roadway line feature\n",
    "\n",
    "# Perform Spatial Join\n",
    "arcpy.analysis.SpatialJoin(output_split_line, output_median_points_near, output_spatial_join, \"JOIN_ONE_TO_ONE\", \"KEEP_ALL\", \"\", \"Intersect\", \"1 Meters\") # Line searches for points within 1m"
   ]
  },
  {
   "cell_type": "code",
   "execution_count": 11,
   "metadata": {},
   "outputs": [
    {
     "data": {
      "text/html": [
       "<div class='gpresult'><h2>Messages</h2><div id='messages' data-messages='[\"Start Time: Monday, June 3, 2024 10:36:15 AM\",\"Succeeded at Monday, June 3, 2024 10:36:22 AM (Elapsed Time: 6.71 seconds)\"]' data-show='true'><div id = 'default' /></div></div>"
      ],
      "text/plain": [
       "<Result 'D:\\\\median_barriers\\\\outputs\\\\SpatialJoinTable.xlsx'>"
      ]
     },
     "execution_count": 11,
     "metadata": {},
     "output_type": "execute_result"
    }
   ],
   "source": [
    "# Export joined roadway table to Excel\n",
    "arcpy.conversion.TableToExcel(output_spatial_join, output_table, \"NAME\", \"CODE\")"
   ]
  },
  {
   "cell_type": "code",
   "execution_count": 19,
   "metadata": {
    "scrolled": true
   },
   "outputs": [
    {
     "data": {
      "text/html": [
       "<div class='gpresult'><h2>Messages</h2><div id='messages' data-messages='[\"Start Time: Monday, June 3, 2024 10:44:21 AM\",\"WARNING 000728: Field VALID does not exist within table\",\"WARNING 000728: Field ROUTE_ID does not exist within table\",\"WARNING 000728: Field Field14 does not exist within table\",\"Succeeded at Monday, June 3, 2024 10:44:29 AM (Elapsed Time: 8.53 seconds)\"]' data-show='true'><div id = 'default' /></div></div>"
      ],
      "text/plain": [
       "<Result 'D:\\\\median_barriers\\\\outputs\\\\CleanedSpatialJoinResult.shp'>"
      ]
     },
     "execution_count": 19,
     "metadata": {},
     "output_type": "execute_result"
    }
   ],
   "source": [
    "# Make a copy of the joined roadway line feature class and clean up duplicate fields (do not delete TARGET_FID)\n",
    "\n",
    "# Copy the feature class\n",
    "arcpy.CopyFeatures_management(output_spatial_join, output_spatial_join_cleaned)\n",
    "\n",
    "# Set fields to delete\n",
    "delete_fields = \"Join_Count;Id;ORIG_FID;ORIG_SEQ;PAIR_NAME;VALID;ROUTE_ID;PAIR_ID;TRANSECT_I;PAIR_TYPE;Primary_Me;MEDIAN_WID;Secondary_;Latitude;Longitude;Notes;Initials;Field14;NEAR_FID;NEAR_DIST;NEAR_X;NEAR_Y;DDLat;DDLon;ORIG_OID\"\n",
    "\n",
    "# Delete fields\n",
    "arcpy.management.DeleteField(output_spatial_join_cleaned, delete_fields, \"DELETE_FIELDS\")"
   ]
  },
  {
   "cell_type": "code",
   "execution_count": 13,
   "metadata": {},
   "outputs": [
    {
     "name": "stdout",
     "output_type": "stream",
     "text": [
      "Completed successfully. Total elapsed time: 1.72 minutes.\n"
     ]
    }
   ],
   "source": [
    "# Calculate elapsed time\n",
    "elapsed_time = time.time() - start_time\n",
    "print(f\"Completed successfully. Total elapsed time: {elapsed_time/60:.2f} minutes.\")"
   ]
  },
  {
   "cell_type": "code",
   "execution_count": 14,
   "metadata": {},
   "outputs": [],
   "source": [
    "# This method does not automatically assign median attributes for roadway segments between two median points.\n",
    "# For example, if I have a concrete/veg median pair, I will have three points with three median attributes: veg, transition, concrete.\n",
    "# This method only assigns the median attributes of these points to roadway segments within the spatial join search distance (1m).\n",
    "# This low search distance helps to ensure that only the NEAREST roadway segment is assigned the median attributes. This prevents overshoot.\n",
    "# But, it also means the segments between the start/end points are not automatically assigned the median attributes.\n",
    "# So, we need to manually update the segments between these points with their median attributes. \n",
    "\n",
    "# Next steps: fill in the missing median attributes\n",
    "\n",
    "# 1) Open roadway Excel table in \"outputs\" folder\n",
    "# 2) Sort the \"ORIG_SEQ\" column from smallest to largest\n",
    "# 3) Select \"Join_Count\" column and Ctrl+F for '1'. Click Find Next to locate first median point\n",
    "# 4) This row should have a valid median type (i.e. NOT \"tran\" or empty)\n",
    "# 5) Copy the row cells (from column \"PAIR_NAME\" to \"ORIG_OID\") DOWN until you reach the next row with a \"Join_Count\"=1\n",
    "# 6) This row should be the transition segment (\"PAIR_TYPE\" = \"tran\")\n",
    "# 7) Record the number of rows for the transect you just copied in the Google Sheet under \"Segment_Number\"\n",
    "# 8) After the transition segment, scroll down until you find the next row with a \"Join_Count\"=1\n",
    "# 9) This row should have a valid median type (i.e. NOT \"tran\" or empty)\n",
    "# 10) Copy the row cells (from column \"PAIR_NAME\" to \"ORIG_OID\") UP until you reach the transition segment\n",
    "# 11) Record the number of rows for the transect you just copied in the Google Sheet under \"Segment_Number\"\n",
    "# 12) Repeat until no rows with \"Join_Count\"=1 remain. Save the Excel file (DO NOT move it out of the \"outputs\" folder)\n",
    "# 13) Now, we need to join these updated road segments with median attributes to the CROS roadkill data back in ArcGIS\n",
    "# 14) Move onto the second script file\n"
   ]
  }
 ],
 "metadata": {
  "celltoolbar": "Raw Cell Format",
  "kernelspec": {
   "display_name": "ArcGISPro",
   "language": "Python",
   "name": "python3"
  },
  "language_info": {
   "file_extension": ".py",
   "name": "python",
   "version": "3"
  }
 },
 "nbformat": 4,
 "nbformat_minor": 2
}
