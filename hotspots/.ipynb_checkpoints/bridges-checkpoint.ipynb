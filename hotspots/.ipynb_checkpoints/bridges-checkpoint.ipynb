{
 "cells": [
  {
   "cell_type": "code",
   "execution_count": 1,
   "metadata": {},
   "outputs": [],
   "source": [
    "# Import the arcpy module\n",
    "import arcpy\n",
    "import os\n",
    "\n",
    "# Workspace path\n",
    "workspace_path = r\"H:\\hotspots\\fencing_crossings\\script_testing.gdb\"\n",
    "\n",
    "# Set the workspace to a folder or geodatabase\n",
    "arcpy.env.workspace = workspace_path\n",
    "\n",
    "# Define pathway to input data folder\n",
    "data_path = r\"H:\\hotspots\\fencing_crossings\\input_data\"\n",
    "\n",
    "# Input data\n",
    "bridges_fc = os.path.join(data_path, \"State_Highway_Bridges_2021\", \"State_Highway_Bridges_2021\", \"State_Highway_Bridges.shp\")\n",
    "hotspots_fc = os.path.join(data_path, \"wcc_ESPG3857\", \"wcc_ESPG3857.shp\")\n",
    "points_fc = os.path.join(data_path, \"wcc_points100ft\", \"wcc_points100ft.shp\")\n",
    "\n",
    "# Output data\n",
    "water_bridges = os.path.join(workspace_path, \"water_bridges\")\n",
    "selected_hotspots = os.path.join(workspace_path, \"hotspots\")\n",
    "points_annlrc = os.path.join(workspace_path, \"points_annlrc\")\n",
    "points_bridges = os.path.join(workspace_path, \"points_bridges\")\n"
   ]
  },
  {
   "cell_type": "code",
   "execution_count": 23,
   "metadata": {},
   "outputs": [
    {
     "data": {
      "text/html": [
       "<div class='gpresult'><h2>Messages</h2><div id='messages' data-messages='[\"Start Time: Friday, May 31, 2024 8:41:44 PM\",\"Succeeded at Friday, May 31, 2024 8:41:46 PM (Elapsed Time: 1.45 seconds)\"]' data-show='true'><div id = 'default' /></div></div>"
      ],
      "text/plain": [
       "<Result 'H:\\\\hotspots\\\\fencing_crossings\\\\script_testing.gdb\\\\water_bridges'>"
      ]
     },
     "execution_count": 23,
     "metadata": {},
     "output_type": "execute_result"
    }
   ],
   "source": [
    "# Select water bridges\n",
    "\n",
    "# Make a feature layer from the feature class\n",
    "arcpy.MakeFeatureLayer_management(bridges_fc, \"bridges\")\n",
    "\n",
    "# Select by attribute\n",
    "bridge_selection = \"VCU = 0\"\n",
    "arcpy.SelectLayerByAttribute_management(\"bridges\", \"NEW_SELECTION\", bridge_selection)\n",
    "\n",
    "# Export the selected bridges to a new feature class\n",
    "arcpy.CopyFeatures_management(\"bridges\", water_bridges)\n",
    "\n",
    "#arcpy.management.CopyFeatures(\"bridges\", r\"H:\\hotspots\\fencing_crossings\\fencing_crossings.gdb\\bridges_CopyFeatures\", '', None, None, None)"
   ]
  },
  {
   "cell_type": "code",
   "execution_count": 5,
   "metadata": {},
   "outputs": [
    {
     "ename": "RuntimeError",
     "evalue": "Object: Error in executing tool",
     "output_type": "error",
     "traceback": [
      "\u001b[0;31m---------------------------------------------------------------------------\u001b[0m\n\u001b[0;31mRuntimeError\u001b[0m                              Traceback (most recent call last)",
      "In  \u001b[0;34m[5]\u001b[0m:\nLine \u001b[0;34m9\u001b[0m:     arcpy.management.Project(hotspots_fc, \u001b[33m\"\u001b[39;49;00m\u001b[33mtest\u001b[39;49;00m\u001b[33m\"\u001b[39;49;00m, wgs84_projection)\n",
      "File \u001b[0;34mC:\\Program Files\\ArcGIS\\Pro\\Resources\\ArcPy\\arcpy\\management.py\u001b[0m, in \u001b[0;32mProject\u001b[0m:\nLine \u001b[0;34m13216\u001b[0m: \u001b[34mraise\u001b[39;49;00m e\n",
      "File \u001b[0;34mC:\\Program Files\\ArcGIS\\Pro\\Resources\\ArcPy\\arcpy\\management.py\u001b[0m, in \u001b[0;32mProject\u001b[0m:\nLine \u001b[0;34m13213\u001b[0m: retval = convertArcObjectToPythonObject(gp.Project_management(*gp_fixargs((in_dataset, out_dataset, out_coor_system, transform_method, in_coor_system, preserve_shape, max_deviation, vertical), \u001b[34mTrue\u001b[39;49;00m)))\n",
      "File \u001b[0;34mC:\\Program Files\\ArcGIS\\Pro\\Resources\\ArcPy\\arcpy\\geoprocessing\\_base.py\u001b[0m, in \u001b[0;32m<lambda>\u001b[0m:\nLine \u001b[0;34m512\u001b[0m:   \u001b[34mreturn\u001b[39;49;00m \u001b[34mlambda\u001b[39;49;00m *args: val(*gp_fixargs(args, \u001b[34mTrue\u001b[39;49;00m))\n",
      "\u001b[0;31mRuntimeError\u001b[0m: Object: Error in executing tool\n\u001b[0;31m---------------------------------------------------------------------------\u001b[0m"
     ]
    }
   ],
   "source": [
    "# Project hotspots_fc to WGS 84\n",
    "\n",
    "# Set the WGS 84 (EPSG:4326) projection\n",
    "#wgs84_projection = 'PROJCS[\"WGS_1984_Web_Mercator_Auxiliary_Sphere\",GEOGCS[\"GCS_WGS_1984\",DATUM[\"D_WGS_1984\",SPHEROID[\"WGS_1984\",6378137.0,298.257223563]],PRIMEM[\"Greenwich\",0.0],UNIT[\"Degree\",0.0174532925199433]],PROJECTION[\"Mercator_Auxiliary_Sphere\"],PARAMETER[\"False_Easting\",0.0],PARAMETER[\"False_Northing\",0.0],PARAMETER[\"Central_Meridian\",0.0],PARAMETER[\"Standard_Parallel_1\",0.0],PARAMETER[\"Auxiliary_Sphere_Type\",0.0],UNIT[\"Meter\",1.0]]', None, 'PROJCS[\"unknown\",GEOGCS[\"GCS_unknown\",DATUM[\"D_North_American_1983\",SPHEROID[\"GRS_1980\",6378137.0,298.257222101]],PRIMEM[\"Greenwich\",0.0],UNIT[\"Degree\",0.0174532925199433]],PROJECTION[\"Lambert_Conformal_Conic\"],PARAMETER[\"False_Easting\",0.0],PARAMETER[\"False_Northing\",0.0],PARAMETER[\"Central_Meridian\",-96.0],PARAMETER[\"Standard_Parallel_1\",20.0],PARAMETER[\"Standard_Parallel_2\",60.0],PARAMETER[\"Latitude_Of_Origin\",40.0],UNIT[\"Meter\",1.0]]'  # Create a SpatialReference object for EPSG:4326\n",
    "\n",
    "# Set the projection of the shapefile to WGS 84\n",
    "#arcpy.DefineProjection_management(hotspots_fc, wgs84_projection)\n",
    "\n",
    "#arcpy.management.Project(hotspots_fc, \"test\", wgs84_projection)\n",
    "#arcpy.management.Project(\"wcc-97-581-129-559\", r\"H:\\hotspots\\fencing_crossings\\fencing_crossings.gdb\\wcc97581129559_Project\", 'GEOGCS[\"GCS_WGS_1984\",DATUM[\"D_WGS_1984\",SPHEROID[\"WGS_1984\",6378137.0,298.257223563]],PRIMEM[\"Greenwich\",0.0],UNIT[\"Degree\",0.0174532925199433]]', None, 'GEOGCS[\"GCS_WGS_1984\",DATUM[\"D_WGS_1984\",SPHEROID[\"WGS_1984\",6378137.0,298.257223563]],PRIMEM[\"Greenwich\",0.0],UNIT[\"Degree\",0.0174532925199433]]', \"NO_PRESERVE_SHAPE\", None, \"NO_VERTICAL\")\n",
    "\n",
    "\n",
    "#arcpy.management.Project(\"wcc-97-581-129-559\", r\"D:\\hotspots\\fencing_crossings\\fencing_crossings.gdb\\wcc_WGS84\", 'PROJCS[\"WGS_1984_Web_Mercator_Auxiliary_Sphere\",GEOGCS[\"GCS_WGS_1984\",DATUM[\"D_WGS_1984\",SPHEROID[\"WGS_1984\",6378137.0,298.257223563]],PRIMEM[\"Greenwich\",0.0],UNIT[\"Degree\",0.0174532925199433]],PROJECTION[\"Mercator_Auxiliary_Sphere\"],PARAMETER[\"False_Easting\",0.0],PARAMETER[\"False_Northing\",0.0],PARAMETER[\"Central_Meridian\",0.0],PARAMETER[\"Standard_Parallel_1\",0.0],PARAMETER[\"Auxiliary_Sphere_Type\",0.0],UNIT[\"Meter\",1.0]]', None, 'PROJCS[\"unknown\",GEOGCS[\"GCS_unknown\",DATUM[\"D_North_American_1983\",SPHEROID[\"GRS_1980\",6378137.0,298.257222101]],PRIMEM[\"Greenwich\",0.0],UNIT[\"Degree\",0.0174532925199433]],PROJECTION[\"Lambert_Conformal_Conic\"],PARAMETER[\"False_Easting\",0.0],PARAMETER[\"False_Northing\",0.0],PARAMETER[\"Central_Meridian\",-96.0],PARAMETER[\"Standard_Parallel_1\",20.0],PARAMETER[\"Standard_Parallel_2\",60.0],PARAMETER[\"Latitude_Of_Origin\",40.0],UNIT[\"Meter\",1.0]]', \"NO_PRESERVE_SHAPE\", None, \"NO_VERTICAL\")"
   ]
  },
  {
   "cell_type": "code",
   "execution_count": 24,
   "metadata": {},
   "outputs": [
    {
     "data": {
      "text/html": [
       "<div class='gpresult'><h2>Messages</h2><div id='messages' data-messages='[\"Start Time: Friday, May 31, 2024 8:41:51 PM\",\"Succeeded at Friday, May 31, 2024 8:41:52 PM (Elapsed Time: 0.92 seconds)\"]' data-show='true'><div id = 'default' /></div></div>"
      ],
      "text/plain": [
       "<Result 'H:\\\\hotspots\\\\fencing_crossings\\\\script_testing.gdb\\\\hotspots'>"
      ]
     },
     "execution_count": 24,
     "metadata": {},
     "output_type": "execute_result"
    }
   ],
   "source": [
    "# Select hotspots above threshold\n",
    "\n",
    "# Make a feature layer from the feature class\n",
    "arcpy.MakeFeatureLayer_management(hotspots_fc, \"hotspots\")\n",
    "\n",
    "# Set hotspot threshold\n",
    "hotspot_threshold = \"annl_nc > 3\"\n",
    "\n",
    "# Select by attribute\n",
    "arcpy.SelectLayerByAttribute_management(\"hotspots\", \"NEW_SELECTION\", hotspot_threshold)\n",
    "\n",
    "# Export the selected bridges to a new feature class\n",
    "arcpy.CopyFeatures_management(\"hotspots\", selected_hotspots)"
   ]
  },
  {
   "cell_type": "code",
   "execution_count": 27,
   "metadata": {},
   "outputs": [
    {
     "data": {
      "text/html": [
       "<div class='gpresult'><h2>Messages</h2><div id='messages' data-messages='[\"Start Time: Friday, May 31, 2024 8:52:23 PM\",\"Succeeded at Friday, May 31, 2024 8:52:23 PM (Elapsed Time: 0.01 seconds)\"]' data-show='true'><div id = 'default' /></div></div>"
      ],
      "text/plain": [
       "<Result 'selected_hotspots'>"
      ]
     },
     "execution_count": 27,
     "metadata": {},
     "output_type": "execute_result"
    }
   ],
   "source": [
    "# Set up feature layers for spatial joins\n",
    "\n",
    "# Make points_fc feature class into feature layer\n",
    "arcpy.MakeFeatureLayer_management(points_fc, \"points_100ft\")\n",
    "\n",
    "# Make selected_hotspots feature class into feature layer\n",
    "arcpy.MakeFeatureLayer_management(selected_hotspots, \"selected_hotspots\")\n",
    "\n",
    "# Make water_bridges feature class into feature layer\n",
    "#arcpy.MakeFeatureLayer_management(water_bridges, \"water_bridges\")"
   ]
  },
  {
   "cell_type": "code",
   "execution_count": 28,
   "metadata": {},
   "outputs": [
    {
     "data": {
      "text/html": [
       "<div class='gpresult'><h2>Messages</h2><div id='messages' data-messages='[\"Start Time: Friday, May 31, 2024 8:52:41 PM\",\"Succeeded at Friday, May 31, 2024 8:54:20 PM (Elapsed Time: 1 minutes 38 seconds)\"]' data-show='true'><div id = 'default' /></div></div>"
      ],
      "text/plain": [
       "<Result 'H:\\\\hotspots\\\\fencing_crossings\\\\script_testing.gdb\\\\hotspots_bridges'>"
      ]
     },
     "execution_count": 28,
     "metadata": {},
     "output_type": "execute_result"
    }
   ],
   "source": [
    "# Spatial join hotspots annl_nc to points\n",
    "\n",
    "# Define paths to the input feature layers\n",
    "target_features = \"points_100ft\"\n",
    "join_features = \"selected_hotspots\"\n",
    "\n",
    "# Perform the spatial join\n",
    "arcpy.analysis.SpatialJoin(target_features, join_features, points_joined, \"JOIN_ONE_TO_MANY\", \"KEEP_ALL\", 'annl_nc \"annl_nc\" true true false 19 Double 0 0,First,#,hotspots,annl_nc,-1,-1', \"INTERSECT\", None, '')\n",
    "#arcpy.analysis.SpatialJoin(\"points_100ft\", \"hotspots\", r\"H:\\hotspots\\fencing_crossings\\fencing_crossings.gdb\\points_100ft_SpatialJoin\", \"JOIN_ONE_TO_MANY\", \"KEEP_ALL\", 'annl_nc \"annl_nc\" true true false 19 Double 0 0,First,#,hotspots,annl_nc,-1,-1', \"INTERSECT\", None, '')"
   ]
  },
  {
   "cell_type": "code",
   "execution_count": null,
   "metadata": {},
   "outputs": [],
   "source": [
    "# Spatial join water_bridges to points\n",
    "\n",
    "# Define paths to the input feature layers\n",
    "target_features = \"points_joined\"\n",
    "join_features = \"water_bridges\"\n",
    "\n",
    "# Perform the spatial join\n",
    "arcpy.analysis.SpatialJoin(target_features, join_features, points_bridges, \"JOIN_ONE_TO_ONE\", \"KEEP_ALL\", 'Join_Count \"Join_Count\" true true false 4 Long 0 0,First,#,points_joined,Join_Count,-1,-1;TARGET_FID \"TARGET_FID\" true true false 4 Long 0 0,First,#,points_joined,TARGET_FID,-1,-1;JOIN_FID \"JOIN_FID\" true true false 4 Long 0 0,First,#,points_joined,JOIN_FID,-1,-1;annl_nc \"annl_nc\" true true false 8 Double 0 0,First,#,points_joined,annl_nc,-1,-1;OBJECTID_1 \"OBJECTID_1\" true true false 4 Long 0 0,First,#,water_bridges,OBJECTID_1,-1,-1;OBJECTID \"OBJECTID\" true true false 4 Long 0 0,First,#,water_bridges,OBJECTID,-1,-1;DIST \"DIST\" true true false 2 Short 0 0,First,#,water_bridges,DIST,-1,-1;CO \"CO\" true true false 3 Text 0 0,First,#,water_bridges,CO,0,3;BRIDGE \"BRIDGE\" true true false 8 Text 0 0,First,#,water_bridges,BRIDGE,0,8;BRIDGE_X \"BRIDGE_X\" true true false 8 Double 0 0,First,#,water_bridges,BRIDGE_X,-1,-1;BRIDGE_Y \"BRIDGE_Y\" true true false 2 Short 0 0,First,#,water_bridges,BRIDGE_Y,-1,-1;LAT \"LAT\" true true false 8 Double 0 0,First,#,water_bridges,LAT,-1,-1;LON \"LON\" true true false 8 Double 0 0,First,#,water_bridges,LON,-1,-1;NAME \"NAME\" true true false 50 Text 0 0,First,#,water_bridges,NAME,0,50;LOC \"LOC\" true true false 24 Text 0 0,First,#,water_bridges,LOC,0,24;YRBLT \"YRBLT\" true true false 2 Short 0 0,First,#,water_bridges,YRBLT,-1,-1;HST \"HST\" true true false 2 Short 0 0,First,#,water_bridges,HST,-1,-1;FAC \"FAC\" true true false 18 Text 0 0,First,#,water_bridges,FAC,0,18;APWID \"APWID\" true true false 8 Double 0 0,First,#,water_bridges,APWID,-1,-1;LENG \"LENG\" true true false 8 Double 0 0,First,#,water_bridges,LENG,-1,-1;DK_AREA \"DK_AREA\" true true false 4 Long 0 0,First,#,water_bridges,DK_AREA,-1,-1;LSW \"LSW\" true true false 2 Short 0 0,First,#,water_bridges,LSW,-1,-1;RSW \"RSW\" true true false 2 Short 0 0,First,#,water_bridges,RSW,-1,-1;RDW \"RDW\" true true false 8 Double 0 0,First,#,water_bridges,RDW,-1,-1;REFVCU \"REFVCU\" true true false 1 Text 0 0,First,#,water_bridges,REFVCU,0,1;VCU \"VCU\" true true false 2 Short 0 0,First,#,water_bridges,VCU,-1,-1;MAINSPANS \"MAINSPANS\" true true false 2 Short 0 0,First,#,water_bridges,MAINSPANS,-1,-1;DIR \"DIR\" true true false 2 Short 0 0,First,#,water_bridges,DIR,-1,-1;PRINC \"PRINC\" true true false 2 Short 0 0,First,#,water_bridges,PRINC,-1,-1;INTERSEC \"INTERSEC\" true true false 27 Text 0 0,First,#,water_bridges,INTERSEC,0,27;AADT \"AADT\" true true false 4 Long 0 0,First,#,water_bridges,AADT,-1,-1;PCTTRK \"PCTTRK\" true true false 2 Short 0 0,First,#,water_bridges,PCTTRK,-1,-1;DEF \"DEF\" true true false 2 Short 0 0,First,#,water_bridges,DEF,-1,-1;NHS \"NHS\" true true false 2 Short 0 0,First,#,water_bridges,NHS,-1,-1;FUNCTIONAL \"FUNCTIONAL\" true true false 2 Short 0 0,First,#,water_bridges,FUNCTIONAL,-1,-1;DATA_EXTRA \"DATA_EXTRA\" true true false 9 Text 0 0,First,#,water_bridges,DATA_EXTRA,0,9;PM \"PM\" true true false 7 Text 0 0,First,#,water_bridges,PM,0,7;CITY \"CITY\" true true false 22 Text 0 0,First,#,water_bridges,CITY,0,22;RTE \"RTE\" true true false 4 Text 0 0,First,#,water_bridges,RTE,0,4', \"INTERSECT\", \"100 Meters\", '')\n",
    "# arcpy.analysis.SpatialJoin(\"points_joined\", \"water_bridges\", r\"H:\\hotspots\\fencing_crossings\\fencing_crossings.gdb\\points_joined_SpatialJoin\", \"JOIN_ONE_TO_ONE\", \"KEEP_ALL\", 'Join_Count \"Join_Count\" true true false 4 Long 0 0,First,#,points_joined,Join_Count,-1,-1;TARGET_FID \"TARGET_FID\" true true false 4 Long 0 0,First,#,points_joined,TARGET_FID,-1,-1;JOIN_FID \"JOIN_FID\" true true false 4 Long 0 0,First,#,points_joined,JOIN_FID,-1,-1;annl_nc \"annl_nc\" true true false 8 Double 0 0,First,#,points_joined,annl_nc,-1,-1;OBJECTID_1 \"OBJECTID_1\" true true false 4 Long 0 0,First,#,water_bridges,OBJECTID_1,-1,-1;OBJECTID \"OBJECTID\" true true false 4 Long 0 0,First,#,water_bridges,OBJECTID,-1,-1;DIST \"DIST\" true true false 2 Short 0 0,First,#,water_bridges,DIST,-1,-1;CO \"CO\" true true false 3 Text 0 0,First,#,water_bridges,CO,0,3;BRIDGE \"BRIDGE\" true true false 8 Text 0 0,First,#,water_bridges,BRIDGE,0,8;BRIDGE_X \"BRIDGE_X\" true true false 8 Double 0 0,First,#,water_bridges,BRIDGE_X,-1,-1;BRIDGE_Y \"BRIDGE_Y\" true true false 2 Short 0 0,First,#,water_bridges,BRIDGE_Y,-1,-1;LAT \"LAT\" true true false 8 Double 0 0,First,#,water_bridges,LAT,-1,-1;LON \"LON\" true true false 8 Double 0 0,First,#,water_bridges,LON,-1,-1;NAME \"NAME\" true true false 50 Text 0 0,First,#,water_bridges,NAME,0,50;LOC \"LOC\" true true false 24 Text 0 0,First,#,water_bridges,LOC,0,24;YRBLT \"YRBLT\" true true false 2 Short 0 0,First,#,water_bridges,YRBLT,-1,-1;HST \"HST\" true true false 2 Short 0 0,First,#,water_bridges,HST,-1,-1;FAC \"FAC\" true true false 18 Text 0 0,First,#,water_bridges,FAC,0,18;APWID \"APWID\" true true false 8 Double 0 0,First,#,water_bridges,APWID,-1,-1;LENG \"LENG\" true true false 8 Double 0 0,First,#,water_bridges,LENG,-1,-1;DK_AREA \"DK_AREA\" true true false 4 Long 0 0,First,#,water_bridges,DK_AREA,-1,-1;LSW \"LSW\" true true false 2 Short 0 0,First,#,water_bridges,LSW,-1,-1;RSW \"RSW\" true true false 2 Short 0 0,First,#,water_bridges,RSW,-1,-1;RDW \"RDW\" true true false 8 Double 0 0,First,#,water_bridges,RDW,-1,-1;REFVCU \"REFVCU\" true true false 1 Text 0 0,First,#,water_bridges,REFVCU,0,1;VCU \"VCU\" true true false 2 Short 0 0,First,#,water_bridges,VCU,-1,-1;MAINSPANS \"MAINSPANS\" true true false 2 Short 0 0,First,#,water_bridges,MAINSPANS,-1,-1;DIR \"DIR\" true true false 2 Short 0 0,First,#,water_bridges,DIR,-1,-1;PRINC \"PRINC\" true true false 2 Short 0 0,First,#,water_bridges,PRINC,-1,-1;INTERSEC \"INTERSEC\" true true false 27 Text 0 0,First,#,water_bridges,INTERSEC,0,27;AADT \"AADT\" true true false 4 Long 0 0,First,#,water_bridges,AADT,-1,-1;PCTTRK \"PCTTRK\" true true false 2 Short 0 0,First,#,water_bridges,PCTTRK,-1,-1;DEF \"DEF\" true true false 2 Short 0 0,First,#,water_bridges,DEF,-1,-1;NHS \"NHS\" true true false 2 Short 0 0,First,#,water_bridges,NHS,-1,-1;FUNCTIONAL \"FUNCTIONAL\" true true false 2 Short 0 0,First,#,water_bridges,FUNCTIONAL,-1,-1;DATA_EXTRA \"DATA_EXTRA\" true true false 9 Text 0 0,First,#,water_bridges,DATA_EXTRA,0,9;PM \"PM\" true true false 7 Text 0 0,First,#,water_bridges,PM,0,7;CITY \"CITY\" true true false 22 Text 0 0,First,#,water_bridges,CITY,0,22;RTE \"RTE\" true true false 4 Text 0 0,First,#,water_bridges,RTE,0,4', \"INTERSECT\", \"100 Meters\", '')\n"
   ]
  },
  {
   "cell_type": "code",
   "execution_count": null,
   "metadata": {},
   "outputs": [],
   "source": [
    "# Search for adjacent segments\n",
    "\n",
    "\n",
    "# Convert features to a list of FIDs and other required fields\n",
    "fids_values = [(row[0], row[1]) for row in arcpy.da.SearchCursor(\"points_bridges\", [\"TARGET_FID\", \"VCU\"])]\n",
    "\n",
    "# Find the starting FIDs based on the value of another field (e.g., \"your_value_field\")\n",
    "target_value = 0\n",
    "start_fids = [fid for fid, value in fids_values if value == target_value]\n",
    "\n",
    "if not start_fids:\n",
    "    raise ValueError(\"No starting FIDs found based on the specified field value\")\n",
    "\n",
    "# Select features around each starting FID\n",
    "selected_fids = set()\n",
    "\n",
    "for start_fid in start_fids:\n",
    "    # Find the index of the starting FID in the feature list\n",
    "    start_index = [fid for fid, value in fids_values].index(start_fid)\n",
    "\n",
    "    # Calculate the range of FIDs (100 in both directions)\n",
    "    start_range = max(0, start_index - 100)\n",
    "    end_range = min(len(fids_values), start_index + 101)\n",
    "\n",
    "    # Add the selected FIDs to the set\n",
    "    selected_fids.update(fid for fid, value in fids_values[start_range:end_range])\n",
    "\n",
    "# Create a query to select the desired FIDs\n",
    "fid_query = \"FID IN ({})\".format(\", \".join(map(str, selected_fids)))\n",
    "arcpy.SelectLayerByAttribute_management(\"points_bridges\", \"NEW_SELECTION\", fid_query)\n",
    "\n",
    "# Export the selected features to a new feature class\n",
    "output_selected_features = os.path.join(data_path, \"selected_features.shp\")\n",
    "arcpy.CopyFeatures_management(\"points_bridges\", output_selected_features)\n",
    "\n",
    "print(\"Selected features exported to:\", output_selected_features)\n"
   ]
  }
 ],
 "metadata": {
  "kernelspec": {
   "display_name": "ArcGISPro",
   "language": "Python",
   "name": "python3"
  },
  "language_info": {
   "file_extension": ".py",
   "name": "python",
   "version": "3"
  }
 },
 "nbformat": 4,
 "nbformat_minor": 2
}
