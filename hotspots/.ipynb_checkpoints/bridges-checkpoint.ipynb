{
 "cells": [
  {
   "cell_type": "code",
   "execution_count": 16,
   "metadata": {},
   "outputs": [],
   "source": [
    "# Import the arcpy module\n",
    "import arcpy\n",
    "import os\n",
    "\n",
    "# Workspace path\n",
    "workspace_path = r\"H:\\hotspots\\fencing_crossings\\script_testing.gdb\"\n",
    "\n",
    "# Set the workspace to a folder or geodatabase\n",
    "arcpy.env.workspace = workspace_path\n",
    "\n",
    "# Define pathway to input data folder\n",
    "data_path = r\"H:\\hotspots\\fencing_crossings\\input_data\"\n",
    "\n",
    "# Input data\n",
    "bridges_fc = os.path.join(data_path, \"State_Highway_Bridges_2021\", \"State_Highway_Bridges_2021\", \"State_Highway_Bridges.shp\")\n",
    "hotspots_fc = os.path.join(data_path, \"wcc-2024-05-cros-large-mammals-v2\", \"wcc-97-581-129-559.shp\")\n",
    "points_fc = os.path.join(data_path, \"wcc_points100ft\\wcc_points100ft.shp\")\n",
    "\n",
    "# Output data\n",
    "water_bridges = os.path.join(workspace_path, \"water_bridges\")\n",
    "selected_hotspots = os.path.join(workspace_path, \"hotspots\")\n",
    "hotspots_joined = os.path.join(workspace_path, \"hotspots_bridges\")\n"
   ]
  },
  {
   "cell_type": "code",
   "execution_count": 10,
   "metadata": {},
   "outputs": [
    {
     "data": {
      "text/html": [
       "<div class='gpresult'><h2>Messages</h2><div id='messages' data-messages='[\"Start Time: Friday, May 31, 2024 8:14:27 PM\",\"Succeeded at Friday, May 31, 2024 8:14:29 PM (Elapsed Time: 1.48 seconds)\"]' data-show='true'><div id = 'default' /></div></div>"
      ],
      "text/plain": [
       "<Result 'H:\\\\hotspots\\\\fencing_crossings\\\\script_testing.gdb\\\\water_bridges'>"
      ]
     },
     "execution_count": 10,
     "metadata": {},
     "output_type": "execute_result"
    }
   ],
   "source": [
    "# Select water bridges\n",
    "\n",
    "# Make a feature layer from the feature class\n",
    "arcpy.MakeFeatureLayer_management(bridges_fc, \"bridges\")\n",
    "\n",
    "# Select by attribute\n",
    "bridge_selection = \"VCU = 0\"\n",
    "arcpy.SelectLayerByAttribute_management(\"bridges\", \"NEW_SELECTION\", bridge_selection)\n",
    "\n",
    "# Export the selected bridges to a new feature class\n",
    "arcpy.CopyFeatures_management(\"bridges\", water_bridges)\n",
    "\n",
    "#arcpy.management.CopyFeatures(\"bridges\", r\"H:\\hotspots\\fencing_crossings\\fencing_crossings.gdb\\bridges_CopyFeatures\", '', None, None, None)"
   ]
  },
  {
   "cell_type": "code",
   "execution_count": 21,
   "metadata": {},
   "outputs": [
    {
     "data": {
      "text/html": [
       "<div class='gpresult'><h2>Messages</h2><div id='messages' data-messages='[\"Start Time: Friday, May 31, 2024 8:20:45 PM\",\"Succeeded at Friday, May 31, 2024 8:20:46 PM (Elapsed Time: 1.22 seconds)\"]' data-show='true'><div id = 'default' /></div></div>"
      ],
      "text/plain": [
       "<Result 'H:\\\\hotspots\\\\fencing_crossings\\\\script_testing.gdb\\\\test'>"
      ]
     },
     "execution_count": 21,
     "metadata": {},
     "output_type": "execute_result"
    }
   ],
   "source": [
    "# Project hotspots_fc to WGS 84\n",
    "\n",
    "# Set the WGS 84 (EPSG:4326) projection\n",
    "wgs84_projection = 'GEOGCS[\"GCS_WGS_1984\",DATUM[\"D_WGS_1984\",SPHEROID[\"WGS_1984\",6378137.0,298.257223563]],PRIMEM[\"Greenwich\",0.0],UNIT[\"Degree\",0.0174532925199433]]'  # Create a SpatialReference object for EPSG:4326\n",
    "\n",
    "# Set the projection of the shapefile to WGS 84\n",
    "#arcpy.DefineProjection_management(hotspots_fc, wgs84_projection)\n",
    "\n",
    "arcpy.management.Project(hotspots_fc, \"test\", wgs84_projection)\n",
    "#arcpy.management.Project(\"wcc-97-581-129-559\", r\"H:\\hotspots\\fencing_crossings\\fencing_crossings.gdb\\wcc97581129559_Project\", 'GEOGCS[\"GCS_WGS_1984\",DATUM[\"D_WGS_1984\",SPHEROID[\"WGS_1984\",6378137.0,298.257223563]],PRIMEM[\"Greenwich\",0.0],UNIT[\"Degree\",0.0174532925199433]]', None, 'GEOGCS[\"GCS_WGS_1984\",DATUM[\"D_WGS_1984\",SPHEROID[\"WGS_1984\",6378137.0,298.257223563]],PRIMEM[\"Greenwich\",0.0],UNIT[\"Degree\",0.0174532925199433]]', \"NO_PRESERVE_SHAPE\", None, \"NO_VERTICAL\")"
   ]
  },
  {
   "cell_type": "code",
   "execution_count": 15,
   "metadata": {},
   "outputs": [],
   "source": [
    "# Select hotspots above threshold\n",
    "\n",
    "# Make a feature layer from the feature class\n",
    "arcpy.MakeFeatureLayer_management(hotspots_fc, \"hotspots\")\n",
    "\n",
    "# Set hotspot threshold\n",
    "hotspot_threshold = \"annl_nc > 3\"\n",
    "\n",
    "# Select by attribute\n",
    "#arcpy.SelectLayerByAttribute_management(\"hotspots\", \"NEW_SELECTION\", hotspot_threshold)\n",
    "\n",
    "# Export the selected bridges to a new feature class\n",
    "#arcpy.CopyFeatures_management(\"hotspots\", selected_hotspots)"
   ]
  },
  {
   "cell_type": "code",
   "execution_count": 13,
   "metadata": {},
   "outputs": [
    {
     "data": {
      "text/html": [
       "<div class='gpresult'><h2>Messages</h2><div id='messages' data-messages='[\"Start Time: Friday, May 31, 2024 8:14:36 PM\",\"Succeeded at Friday, May 31, 2024 8:14:36 PM (Elapsed Time: 0.04 seconds)\"]' data-show='true'><div id = 'default' /></div></div>"
      ],
      "text/plain": [
       "<Result 'water_bridges'>"
      ]
     },
     "execution_count": 13,
     "metadata": {},
     "output_type": "execute_result"
    }
   ],
   "source": [
    "# Set up feature layers for spatial join\n",
    "\n",
    "# Make points_fc feature class into feature layer\n",
    "arcpy.MakeFeatureLayer_management(points_fc, \"points_100ft\")\n",
    "\n",
    "# Make water_bridges feature class into feature layer\n",
    "arcpy.MakeFeatureLayer_management(water_bridges, \"water_bridges\")"
   ]
  },
  {
   "cell_type": "code",
   "execution_count": 14,
   "metadata": {},
   "outputs": [
    {
     "ename": "ExecuteError",
     "evalue": "ERROR 000622: Failed to execute (Spatial Join). Parameters are not valid.\nERROR 000800: The value is not a member of KEEP_ALL | KEEP_COMMON.\n",
     "output_type": "error",
     "traceback": [
      "\u001b[0;31m---------------------------------------------------------------------------\u001b[0m\n\u001b[0;31mExecuteError\u001b[0m                              Traceback (most recent call last)",
      "In  \u001b[0;34m[14]\u001b[0m:\nLine \u001b[0;34m8\u001b[0m:     arcpy.SpatialJoin_analysis(target_features, join_features, hotspots_joined, \u001b[33m\"\u001b[39;49;00m\u001b[33mJOIN_ONE_TO_ONE\u001b[39;49;00m\u001b[33m\"\u001b[39;49;00m, \u001b[33m\"\u001b[39;49;00m\u001b[33mINTERSECT\u001b[39;49;00m\u001b[33m\"\u001b[39;49;00m, \u001b[33m\"\u001b[39;49;00m\u001b[33m100 Feet\u001b[39;49;00m\u001b[33m\"\u001b[39;49;00m)\n",
      "File \u001b[0;34mC:\\Program Files\\ArcGIS\\Pro\\Resources\\ArcPy\\arcpy\\analysis.py\u001b[0m, in \u001b[0;32mSpatialJoin\u001b[0m:\nLine \u001b[0;34m794\u001b[0m:   \u001b[34mraise\u001b[39;49;00m e\n",
      "File \u001b[0;34mC:\\Program Files\\ArcGIS\\Pro\\Resources\\ArcPy\\arcpy\\analysis.py\u001b[0m, in \u001b[0;32mSpatialJoin\u001b[0m:\nLine \u001b[0;34m791\u001b[0m:   retval = convertArcObjectToPythonObject(gp.SpatialJoin_analysis(*gp_fixargs((target_features, join_features, out_feature_class, join_operation, join_type, field_mapping, match_option, search_radius, distance_field_name), \u001b[34mTrue\u001b[39;49;00m)))\n",
      "File \u001b[0;34mC:\\Program Files\\ArcGIS\\Pro\\Resources\\ArcPy\\arcpy\\geoprocessing\\_base.py\u001b[0m, in \u001b[0;32m<lambda>\u001b[0m:\nLine \u001b[0;34m512\u001b[0m:   \u001b[34mreturn\u001b[39;49;00m \u001b[34mlambda\u001b[39;49;00m *args: val(*gp_fixargs(args, \u001b[34mTrue\u001b[39;49;00m))\n",
      "\u001b[0;31mExecuteError\u001b[0m: ERROR 000622: Failed to execute (Spatial Join). Parameters are not valid.\nERROR 000800: The value is not a member of KEEP_ALL | KEEP_COMMON.\n\n\u001b[0;31m---------------------------------------------------------------------------\u001b[0m"
     ]
    }
   ],
   "source": [
    "# Spatial join water bridges to hotspots\n",
    "\n",
    "# Define paths to the input feature layers\n",
    "target_features = \"points_10ft\"\n",
    "join_features = \"water_bridges\"\n",
    "\n",
    "# Perform the spatial join\n",
    "arcpy.SpatialJoin_analysis(target_features, join_features, hotspots_joined, \"JOIN_ONE_TO_ONE\", \"INTERSECT\", \"100 Feet\")"
   ]
  },
  {
   "cell_type": "code",
   "execution_count": null,
   "metadata": {},
   "outputs": [],
   "source": []
  }
 ],
 "metadata": {
  "kernelspec": {
   "display_name": "ArcGISPro",
   "language": "Python",
   "name": "python3"
  },
  "language_info": {
   "file_extension": ".py",
   "name": "python",
   "version": "3"
  }
 },
 "nbformat": 4,
 "nbformat_minor": 2
}
