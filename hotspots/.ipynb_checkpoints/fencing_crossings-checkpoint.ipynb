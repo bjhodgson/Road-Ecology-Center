{
 "cells": [
  {
   "cell_type": "code",
   "execution_count": 1,
   "metadata": {},
   "outputs": [
    {
     "ename": "AttributeError",
     "evalue": "module 'arcpy.analysis' has no attribute 'SplitLineAtPoint'",
     "output_type": "error",
     "traceback": [
      "\u001b[0;31m---------------------------------------------------------------------------\u001b[0m\n\u001b[0;31mAttributeError\u001b[0m                            Traceback (most recent call last)",
      "In  \u001b[0;34m[1]\u001b[0m:\nLine \u001b[0;34m16\u001b[0m:    arcpy.analysis.SplitLineAtPoint(lines_fc, points_fc, split_lines_fc, \u001b[33m\"\u001b[39;49;00m\u001b[33m0.01 Meters\u001b[39;49;00m\u001b[33m\"\u001b[39;49;00m)\n",
      "\u001b[0;31mAttributeError\u001b[0m: module 'arcpy.analysis' has no attribute 'SplitLineAtPoint'\n\u001b[0;31m---------------------------------------------------------------------------\u001b[0m"
     ]
    }
   ],
   "source": [
    "import arcpy\n",
    "\n",
    "# Set the workspace\n",
    "arcpy.env.workspace = r\"D:\\hotspots\\fencing_crossings\\fencing_crossings.gdb\"\n",
    "arcpy.env.overwriteOutput = True\n",
    "\n",
    "# Input feature classes\n",
    "points_fc = \"water_bridges\"\n",
    "lines_fc = \"wwc_58R\"\n",
    "\n",
    "# Create temporary feature classes\n",
    "split_lines_fc = \"in_memory/split_lines\"\n",
    "search_segments_fc = \"in_memory/search_segments\"\n",
    "\n",
    "# Split the lines at each point\n",
    "arcpy.management.SplitLineAtPoint(lines_fc, points_fc, split_lines_fc, \"0.01 Meters\")\n",
    "\n",
    "# Function to search along the roadways\n",
    "def search_along_roadways(points_fc, split_lines_fc, search_distance):\n",
    "    arcpy.management.CreateFeatureclass(\"in_memory\", \"search_segments\", \"POLYLINE\", spatial_reference=split_lines_fc)\n",
    "    with arcpy.da.SearchCursor(points_fc, [\"SHAPE@\"]) as point_cursor:\n",
    "        with arcpy.da.InsertCursor(\"in_memory/search_segments\", [\"SHAPE@\"]) as segment_cursor:\n",
    "            for point in point_cursor:\n",
    "                point_geom = point[0]\n",
    "                with arcpy.da.SearchCursor(split_lines_fc, [\"SHAPE@\", \"OID@\"]) as line_cursor:\n",
    "                    for line in line_cursor:\n",
    "                        line_geom = line[0]\n",
    "                        if line_geom.distanceTo(point_geom) <= search_distance:\n",
    "                            segment_cursor.insertRow([line_geom])\n",
    "    return \"in_memory/search_segments\"\n",
    "\n",
    "# Define the search distance (2 miles)\n",
    "search_distance = 2 * 1609.34  # 2 miles in meters\n",
    "\n",
    "# Search along the roadways and create the search segments\n",
    "search_segments = search_along_roadways(points_fc, split_lines_fc, search_distance)\n",
    "\n",
    "# Perform spatial join based on the value from the line field\n",
    "spatial_join_fc = \"spatial_join\"\n",
    "arcpy.analysis.SpatialJoin(search_segments, lines_fc, spatial_join_fc, \"JOIN_ONE_TO_MANY\", \"KEEP_COMMON\", \n",
    "                           match_option=\"INTERSECT\")\n",
    "\n",
    "# Optional: Export the result to a feature class for further analysis\n",
    "output_fc = \"C:/path/to/your/output/spatial_join_result\"\n",
    "arcpy.management.CopyFeatures(spatial_join_fc, output_fc)\n",
    "\n",
    "# Verify the results\n",
    "print(f\"Spatial join results saved to: {output_fc}\")\n"
   ]
  },
  {
   "cell_type": "code",
   "execution_count": null,
   "metadata": {},
   "outputs": [],
   "source": []
  }
 ],
 "metadata": {
  "kernelspec": {
   "display_name": "ArcGISPro",
   "language": "Python",
   "name": "python3"
  },
  "language_info": {
   "file_extension": ".py",
   "name": "python",
   "version": "3"
  }
 },
 "nbformat": 4,
 "nbformat_minor": 2
}
