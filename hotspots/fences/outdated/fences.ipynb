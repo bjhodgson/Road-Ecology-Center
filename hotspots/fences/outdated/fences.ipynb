{
 "cells": [
  {
   "cell_type": "code",
   "execution_count": null,
   "metadata": {},
   "outputs": [],
   "source": [
    "import arcpy\n",
    "import pandas as pd\n",
    "import os\n",
    "\n",
    "workspace = r\"H:\\hotspots\\fences\\fences.gdb\"\n",
    "\n",
    "input_data = r\"H:\\hotspots\\fences\\input_data\"\n",
    "\n",
    "# Path to your line feature layer\n",
    "line_feature = os.path.join(input_data, \"wcc_ESPG3857\", \"wcc_ESPG3857.shp\")\n",
    "points_shapefile = os.path.join(input_data, \"State_Highway_Bridges_2021\\State_Highway_Bridges_2021\", \"State_Highway_Bridges.shp\")\n",
    "\n",
    "# Create an empty DataFrame to store distances\n",
    "df_distances = pd.DataFrame(columns=[\"Point 1\", \"Point 2\", \"Distance along line\"])\n",
    "\n",
    "# Open a cursor to iterate over line features\n",
    "with arcpy.da.SearchCursor(line_feature, [\"SHAPE@\"]) as line_cursor:\n",
    "    for line_row in line_cursor:\n",
    "        line_geometry = line_row[0]\n",
    "        # Open a cursor to iterate over points\n",
    "        with arcpy.da.SearchCursor(points_shapefile, [\"SHAPE@XY\"]) as point_cursor:\n",
    "            for point_row in point_cursor:\n",
    "                point1 = arcpy.Point(*point_row[0])\n",
    "                # Iterate over each point after the current one\n",
    "                for next_point_row in point_cursor:\n",
    "                    point2 = arcpy.Point(*next_point_row[0])\n",
    "                    # Calculate the distance between the two points along the line\n",
    "                    distance_along_line = line_geometry.measureOnLine(point1, point2)\n",
    "                    # Add the distance to the DataFrame\n",
    "                    df_distances = df_distances.append({\"Point 1\": point1, \"Point 2\": point2, \"Distance along line\": distance_along_line}, ignore_index=True)\n",
    "\n",
    "# Print the DataFrame\n",
    "print(df_distances)\n"
   ]
  }
 ],
 "metadata": {
  "kernelspec": {
   "display_name": "ArcGISPro",
   "language": "Python",
   "name": "python3"
  },
  "language_info": {
   "file_extension": ".py",
   "name": "python",
   "version": "3"
  }
 },
 "nbformat": 4,
 "nbformat_minor": 2
}
