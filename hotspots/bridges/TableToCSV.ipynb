{
 "cells": [
  {
   "cell_type": "code",
   "execution_count": 3,
   "metadata": {},
   "outputs": [
    {
     "name": "stdout",
     "output_type": "stream",
     "text": [
      "Table has been successfully exported to CSV.\n"
     ]
    }
   ],
   "source": [
    "import arcpy\n",
    "import csv\n",
    "\n",
    "# Set the input table and the output CSV file paths\n",
    "input_table = r\"D:\\hotspots\\fences\\fences.gdb\\wcc_bridges\" # Update to local path\n",
    "output_csv = r\"D:\\hotspots\\fences\\output_data\\wcc_bridges.csv\" # Update to local path\n",
    "\n",
    "# Create a search cursor to iterate through the table\n",
    "fields = [field.name for field in arcpy.ListFields(input_table)]\n",
    "\n",
    "with open(output_csv, 'w', newline='') as csvfile:\n",
    "    csvwriter = csv.writer(csvfile)\n",
    "    \n",
    "    # Write the header row\n",
    "    csvwriter.writerow(fields)\n",
    "    \n",
    "    # Write the data rows\n",
    "    with arcpy.da.SearchCursor(input_table, fields) as cursor:\n",
    "        for row in cursor:\n",
    "            csvwriter.writerow(row)\n",
    "\n",
    "print(\"Table has been successfully exported to CSV.\")\n"
   ]
  }
 ],
 "metadata": {
  "kernelspec": {
   "display_name": "ArcGISPro",
   "language": "Python",
   "name": "python3"
  },
  "language_info": {
   "file_extension": ".py",
   "name": "python",
   "version": "3"
  }
 },
 "nbformat": 4,
 "nbformat_minor": 2
}
